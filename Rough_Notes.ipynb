{
 "cells": [
  {
   "cell_type": "code",
   "execution_count": 3,
   "id": "eab07033-f103-4bbc-9270-69a3946774e5",
   "metadata": {},
   "outputs": [
    {
     "name": "stdout",
     "output_type": "stream",
     "text": [
      "24\n"
     ]
    }
   ],
   "source": [
    "x = 7\n",
    "y= 10\n",
    "\n",
    "\n",
    "print(2*x+y)\n",
    "\n",
    "x = 7\n",
    "y= 10\n",
    "\n",
    "\n",
    "print(2*x+y)\n",
    "\n",
    "x = 7\n",
    "y= 10\n",
    "\n",
    "\n",
    "print(2*x+y)\n",
    "\n",
    "x = 7\n",
    "y= 10\n",
    "\n",
    "\n",
    "print(2*x+y)"
   ]
  },
  {
   "cell_type": "code",
   "execution_count": 6,
   "id": "ec3bb4d4-cdfa-43e2-b648-1fc4b42ceb9b",
   "metadata": {},
   "outputs": [],
   "source": [
    "def add_two_numbers(a,b):\n",
    "    o = 2*(a+b)\n",
    "    return o"
   ]
  },
  {
   "cell_type": "code",
   "execution_count": 11,
   "id": "dfedf116-9880-4bac-a5f9-5973bb0c95f6",
   "metadata": {},
   "outputs": [
    {
     "name": "stdout",
     "output_type": "stream",
     "text": [
      "18 26 28 26\n"
     ]
    }
   ],
   "source": [
    "x = add_two_numbers(4,5)\n",
    "a = add_two_numbers(6,7)\n",
    "b = add_two_numbers(7,7)\n",
    "c = add_two_numbers(8,5)\n",
    "\n",
    "print(x, a, b, c)"
   ]
  },
  {
   "cell_type": "code",
   "execution_count": 14,
   "id": "262021bd-c4d3-4c6c-8318-6db6b4663783",
   "metadata": {},
   "outputs": [
    {
     "name": "stdin",
     "output_type": "stream",
     "text": [
      " 5\n",
      " 6\n"
     ]
    },
    {
     "data": {
      "text/plain": [
       "22"
      ]
     },
     "execution_count": 14,
     "metadata": {},
     "output_type": "execute_result"
    }
   ],
   "source": [
    "x = int(input())\n",
    "y = int(input())\n",
    "\n",
    "add_two_numbers(x, y)"
   ]
  },
  {
   "cell_type": "code",
   "execution_count": null,
   "id": "1448ce29-a6db-4a4f-9319-3b0ebc562c8c",
   "metadata": {},
   "outputs": [],
   "source": []
  }
 ],
 "metadata": {
  "kernelspec": {
   "display_name": "Python 3 (ipykernel)",
   "language": "python",
   "name": "python3"
  },
  "language_info": {
   "codemirror_mode": {
    "name": "ipython",
    "version": 3
   },
   "file_extension": ".py",
   "mimetype": "text/x-python",
   "name": "python",
   "nbconvert_exporter": "python",
   "pygments_lexer": "ipython3",
   "version": "3.11.1"
  }
 },
 "nbformat": 4,
 "nbformat_minor": 5
}
