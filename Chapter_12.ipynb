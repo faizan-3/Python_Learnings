{
 "cells": [
  {
   "cell_type": "markdown",
   "id": "be0bf5bf-72a3-43a7-bf2b-c5ac65db5eda",
   "metadata": {},
   "source": [
    "# Input Output Operations"
   ]
  },
  {
   "cell_type": "code",
   "execution_count": 1,
   "id": "1dd74925-c067-464a-ac7c-203e25834585",
   "metadata": {},
   "outputs": [
    {
     "data": {
      "text/plain": [
       "'C:\\\\Users\\\\AZEEM_SIDD\\\\PycharmProjects\\\\Faizan_Project'"
      ]
     },
     "execution_count": 1,
     "metadata": {},
     "output_type": "execute_result"
    }
   ],
   "source": [
    "pwd"
   ]
  },
  {
   "cell_type": "code",
   "execution_count": 2,
   "id": "2c62e47c-47ad-4fe0-affa-3e01e0e5075b",
   "metadata": {},
   "outputs": [
    {
     "data": {
      "text/plain": [
       "'C:\\\\Users\\\\AZEEM_SIDD\\\\PycharmProjects\\\\Faizan_Project'"
      ]
     },
     "execution_count": 2,
     "metadata": {},
     "output_type": "execute_result"
    }
   ],
   "source": [
    "import os\n",
    "os.getcwd()"
   ]
  },
  {
   "cell_type": "code",
   "execution_count": null,
   "id": "2c69693a-cbac-400e-9bb3-493df58737bb",
   "metadata": {},
   "outputs": [],
   "source": [
    "1) Comma Separated Values (CSV, TSV)\n",
    "\n",
    "2) Excel Format\n",
    "\n",
    "3) PDF Format\n",
    "\n",
    "4) Images format - png, jpeg, jiff, tiff...\n",
    "\n",
    "5) Video - MPEG, MP4, ...\n",
    "\n",
    "6) JSON Format "
   ]
  },
  {
   "cell_type": "code",
   "execution_count": 4,
   "id": "441fedb8-b67f-4583-9b32-5f863c0f0886",
   "metadata": {},
   "outputs": [
    {
     "data": {
      "text/plain": [
       "['.git',\n",
       " '.idea',\n",
       " '.ipynb_checkpoints',\n",
       " 'azeem.txt',\n",
       " 'Chapter_12.ipynb',\n",
       " 'data',\n",
       " 'data-engineering-essentials-main',\n",
       " 'data-engineering-essentials-main.zip',\n",
       " 'README.md',\n",
       " 'Rough_Notes.ipynb',\n",
       " 'sample.csv',\n",
       " 'sample.xlsx',\n",
       " 'venv']"
      ]
     },
     "execution_count": 4,
     "metadata": {},
     "output_type": "execute_result"
    }
   ],
   "source": [
    "import os\n",
    "os.listdir()"
   ]
  },
  {
   "cell_type": "code",
   "execution_count": 7,
   "id": "d86333ef-ddd9-4ed3-80d2-9b0bed717995",
   "metadata": {},
   "outputs": [],
   "source": [
    "file = open('data/retail_db/orders/part-00000')\n",
    "my_data = file.read()"
   ]
  },
  {
   "cell_type": "code",
   "execution_count": 13,
   "id": "0460673c-a70a-4909-b855-d62ece139e52",
   "metadata": {},
   "outputs": [
    {
     "data": {
      "text/plain": [
       "str"
      ]
     },
     "execution_count": 13,
     "metadata": {},
     "output_type": "execute_result"
    }
   ],
   "source": [
    "type(my_data)"
   ]
  },
  {
   "cell_type": "code",
   "execution_count": 14,
   "id": "72e4c419-6de4-4bc3-9d26-83c3a2f9d114",
   "metadata": {},
   "outputs": [],
   "source": [
    "data_list = my_data.split('\\n')"
   ]
  },
  {
   "cell_type": "code",
   "execution_count": 19,
   "id": "2e9f8967-5bf9-4ab3-87b3-5701ade55272",
   "metadata": {},
   "outputs": [],
   "source": [
    "data_list = my_data.splitlines()"
   ]
  },
  {
   "cell_type": "code",
   "execution_count": 21,
   "id": "5db622d2-7c51-459f-8e70-32e3a0fc516f",
   "metadata": {},
   "outputs": [
    {
     "data": {
      "text/plain": [
       "68883"
      ]
     },
     "execution_count": 21,
     "metadata": {},
     "output_type": "execute_result"
    }
   ],
   "source": [
    "len(data_list)"
   ]
  },
  {
   "cell_type": "code",
   "execution_count": 22,
   "id": "43ea9f5d-befc-4b7a-84b6-97d00e9dac6c",
   "metadata": {},
   "outputs": [
    {
     "data": {
      "text/plain": [
       "['1,2013-07-25 00:00:00.0,11599,CLOSED',\n",
       " '2,2013-07-25 00:00:00.0,256,PENDING_PAYMENT',\n",
       " '3,2013-07-25 00:00:00.0,12111,COMPLETE',\n",
       " '4,2013-07-25 00:00:00.0,8827,CLOSED',\n",
       " '5,2013-07-25 00:00:00.0,11318,COMPLETE',\n",
       " '6,2013-07-25 00:00:00.0,7130,COMPLETE',\n",
       " '7,2013-07-25 00:00:00.0,4530,COMPLETE',\n",
       " '8,2013-07-25 00:00:00.0,2911,PROCESSING',\n",
       " '9,2013-07-25 00:00:00.0,5657,PENDING_PAYMENT',\n",
       " '10,2013-07-25 00:00:00.0,5648,PENDING_PAYMENT']"
      ]
     },
     "execution_count": 22,
     "metadata": {},
     "output_type": "execute_result"
    }
   ],
   "source": [
    "data_list[:10]"
   ]
  },
  {
   "cell_type": "code",
   "execution_count": 27,
   "id": "d78a13db-7931-449e-8243-99714ab24590",
   "metadata": {},
   "outputs": [
    {
     "data": {
      "text/plain": [
       "['68874,2014-07-03 00:00:00.0,1601,COMPLETE',\n",
       " '68875,2014-07-04 00:00:00.0,10637,ON_HOLD',\n",
       " '68876,2014-07-06 00:00:00.0,4124,COMPLETE',\n",
       " '68877,2014-07-07 00:00:00.0,9692,ON_HOLD',\n",
       " '68878,2014-07-08 00:00:00.0,6753,COMPLETE',\n",
       " '68879,2014-07-09 00:00:00.0,778,COMPLETE',\n",
       " '68880,2014-07-13 00:00:00.0,1117,COMPLETE',\n",
       " '68881,2014-07-19 00:00:00.0,2518,PENDING_PAYMENT',\n",
       " '68882,2014-07-22 00:00:00.0,10000,ON_HOLD',\n",
       " '68883,2014-07-23 00:00:00.0,5533,COMPLETE']"
      ]
     },
     "execution_count": 27,
     "metadata": {},
     "output_type": "execute_result"
    }
   ],
   "source": [
    "data_list[-10:]"
   ]
  },
  {
   "cell_type": "markdown",
   "id": "906fae46-7f13-4ade-9f5c-cb35b45915ac",
   "metadata": {},
   "source": [
    "1) Create list of strings\n",
    "\n",
    "2) Filter for complete orders\n",
    "\n",
    "3) Get unique statsus (use map and set)\n",
    "\n",
    "4) Sort the data based on customer id\n",
    "\n",
    "filter, map, sorted\n",
    "\n",
    "lambda"
   ]
  },
  {
   "cell_type": "code",
   "execution_count": 28,
   "id": "f1b31744-ff79-41ed-81d3-ae76179073a2",
   "metadata": {},
   "outputs": [],
   "source": [
    "my_data = data_list[:20]"
   ]
  },
  {
   "cell_type": "code",
   "execution_count": 29,
   "id": "d0b8b541-e15b-4f2d-b6ba-10f5d45a3192",
   "metadata": {},
   "outputs": [
    {
     "data": {
      "text/plain": [
       "['1,2013-07-25 00:00:00.0,11599,CLOSED',\n",
       " '2,2013-07-25 00:00:00.0,256,PENDING_PAYMENT',\n",
       " '3,2013-07-25 00:00:00.0,12111,COMPLETE',\n",
       " '4,2013-07-25 00:00:00.0,8827,CLOSED',\n",
       " '5,2013-07-25 00:00:00.0,11318,COMPLETE',\n",
       " '6,2013-07-25 00:00:00.0,7130,COMPLETE',\n",
       " '7,2013-07-25 00:00:00.0,4530,COMPLETE',\n",
       " '8,2013-07-25 00:00:00.0,2911,PROCESSING',\n",
       " '9,2013-07-25 00:00:00.0,5657,PENDING_PAYMENT',\n",
       " '10,2013-07-25 00:00:00.0,5648,PENDING_PAYMENT',\n",
       " '11,2013-07-25 00:00:00.0,918,PAYMENT_REVIEW',\n",
       " '12,2013-07-25 00:00:00.0,1837,CLOSED',\n",
       " '13,2013-07-25 00:00:00.0,9149,PENDING_PAYMENT',\n",
       " '14,2013-07-25 00:00:00.0,9842,PROCESSING',\n",
       " '15,2013-07-25 00:00:00.0,2568,COMPLETE',\n",
       " '16,2013-07-25 00:00:00.0,7276,PENDING_PAYMENT',\n",
       " '17,2013-07-25 00:00:00.0,2667,COMPLETE',\n",
       " '18,2013-07-25 00:00:00.0,1205,CLOSED',\n",
       " '19,2013-07-25 00:00:00.0,9488,PENDING_PAYMENT',\n",
       " '20,2013-07-25 00:00:00.0,9198,PROCESSING']"
      ]
     },
     "execution_count": 29,
     "metadata": {},
     "output_type": "execute_result"
    }
   ],
   "source": [
    "my_data"
   ]
  },
  {
   "cell_type": "markdown",
   "id": "b6ab5a39-e716-465b-ab09-09fe4cdac01a",
   "metadata": {},
   "source": [
    "# List Comprehension"
   ]
  },
  {
   "cell_type": "code",
   "execution_count": null,
   "id": "c110d341-322e-4c16-aaa8-411f241a3acb",
   "metadata": {},
   "outputs": [],
   "source": [
    "%%time\n",
    "a = range(0,100000000000,1)\n",
    "b = []\n",
    "for el in a:\n",
    "    b.append(el+1)"
   ]
  },
  {
   "cell_type": "code",
   "execution_count": 45,
   "id": "f532f71e-f66a-4312-8481-725adfa30354",
   "metadata": {},
   "outputs": [],
   "source": [
    "# b"
   ]
  },
  {
   "cell_type": "code",
   "execution_count": null,
   "id": "90960984-70f7-464c-9788-e85a8275208a",
   "metadata": {},
   "outputs": [],
   "source": [
    "%%time\n",
    "a = range(0,100000000000,1)\n",
    "[el+1 for el in a]"
   ]
  },
  {
   "cell_type": "code",
   "execution_count": 4,
   "id": "af27fc43-6e94-422a-a372-ee6566b33207",
   "metadata": {},
   "outputs": [
    {
     "data": {
      "text/plain": [
       "[64, 4, 9, 16, 25, 49]"
      ]
     },
     "execution_count": 4,
     "metadata": {},
     "output_type": "execute_result"
    }
   ],
   "source": [
    "x = [8, 2, 3, 4, 5, 7]\n",
    "\n",
    "[e**2 for e in x]"
   ]
  },
  {
   "cell_type": "code",
   "execution_count": 5,
   "id": "49968ae8-c381-4cc4-a059-9e21b15e01ea",
   "metadata": {},
   "outputs": [],
   "source": [
    "def square_two(n):\n",
    "    return n**2"
   ]
  },
  {
   "cell_type": "code",
   "execution_count": 6,
   "id": "d70dcb34-292c-4063-8520-11a5a5d8596b",
   "metadata": {},
   "outputs": [
    {
     "data": {
      "text/plain": [
       "64"
      ]
     },
     "execution_count": 6,
     "metadata": {},
     "output_type": "execute_result"
    }
   ],
   "source": [
    "square_two(8)"
   ]
  },
  {
   "cell_type": "code",
   "execution_count": 8,
   "id": "9a3df7b5-3d95-470f-847d-06ca66a18fb2",
   "metadata": {},
   "outputs": [
    {
     "name": "stdout",
     "output_type": "stream",
     "text": [
      "49\n",
      "9\n",
      "16\n",
      "25\n",
      "36\n"
     ]
    }
   ],
   "source": [
    "# Stage 1 - Using function\n",
    "\n",
    "l2 = [7, 3, 4, 5, 6]\n",
    "\n",
    "for ele in l2:\n",
    "    print(square_two(ele))"
   ]
  },
  {
   "cell_type": "code",
   "execution_count": 9,
   "id": "1a7eee81-b2cd-4c7a-b703-73cdaa3497da",
   "metadata": {},
   "outputs": [
    {
     "data": {
      "text/plain": [
       "[49, 9, 16, 25, 36]"
      ]
     },
     "execution_count": 9,
     "metadata": {},
     "output_type": "execute_result"
    }
   ],
   "source": [
    "# Stage 2 - Using list comprehension and function\n",
    "\n",
    "l2 = [7, 3, 4, 5, 6]\n",
    "\n",
    "[square_two(ele) for ele in l2]"
   ]
  },
  {
   "cell_type": "code",
   "execution_count": 12,
   "id": "595c41ec-913b-4bd7-9101-d7912ae8e0d9",
   "metadata": {},
   "outputs": [
    {
     "data": {
      "text/plain": [
       "[49, 9, 16, 25, 36]"
      ]
     },
     "execution_count": 12,
     "metadata": {},
     "output_type": "execute_result"
    }
   ],
   "source": [
    "# Stage 3 - Using List comprehension and direct functionality\n",
    "\n",
    "[ele**2 for ele in l2]"
   ]
  },
  {
   "cell_type": "code",
   "execution_count": 15,
   "id": "c7e978af-6657-4af0-894b-05907fd6002b",
   "metadata": {},
   "outputs": [
    {
     "data": {
      "text/plain": [
       "[49, 9, 16, 25, 36]"
      ]
     },
     "execution_count": 15,
     "metadata": {},
     "output_type": "execute_result"
    }
   ],
   "source": [
    "# Stage 4 - Using map and function\n",
    "\n",
    "# map(function, list)\n",
    "\n",
    "list(map(square_two, l2))"
   ]
  },
  {
   "cell_type": "code",
   "execution_count": 16,
   "id": "da26e7b1-e1f7-40c7-95ad-5da16bdadea2",
   "metadata": {},
   "outputs": [
    {
     "data": {
      "text/plain": [
       "[49, 9, 16, 25, 36]"
      ]
     },
     "execution_count": 16,
     "metadata": {},
     "output_type": "execute_result"
    }
   ],
   "source": [
    "# Stage 4 - Using map and lambda function\n",
    "\n",
    "# map(function, list)\n",
    "\n",
    "list(map(lambda x:x**2, l2))"
   ]
  },
  {
   "cell_type": "code",
   "execution_count": 18,
   "id": "9e2b72a9-2233-43ba-81ed-8ffeba9f5146",
   "metadata": {},
   "outputs": [
    {
     "name": "stdout",
     "output_type": "stream",
     "text": [
      "0\n",
      "2\n",
      "4\n",
      "6\n",
      "8\n"
     ]
    }
   ],
   "source": [
    "# Range is also iterable\n",
    "\n",
    "for x in range(0,10,2):\n",
    "    print(x)"
   ]
  },
  {
   "cell_type": "code",
   "execution_count": 19,
   "id": "6419b9f3-dba8-4faa-b518-c1b452736415",
   "metadata": {},
   "outputs": [
    {
     "data": {
      "text/plain": [
       "[0, 2, 4, 6, 8]"
      ]
     },
     "execution_count": 19,
     "metadata": {},
     "output_type": "execute_result"
    }
   ],
   "source": [
    "list(range(0,10,2))"
   ]
  }
 ],
 "metadata": {
  "kernelspec": {
   "display_name": "Python 3 (ipykernel)",
   "language": "python",
   "name": "python3"
  },
  "language_info": {
   "codemirror_mode": {
    "name": "ipython",
    "version": 3
   },
   "file_extension": ".py",
   "mimetype": "text/x-python",
   "name": "python",
   "nbconvert_exporter": "python",
   "pygments_lexer": "ipython3",
   "version": "3.11.1"
  }
 },
 "nbformat": 4,
 "nbformat_minor": 5
}
